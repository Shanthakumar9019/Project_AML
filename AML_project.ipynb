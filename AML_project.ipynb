{
  "nbformat": 4,
  "nbformat_minor": 0,
  "metadata": {
    "colab": {
      "provenance": [],
      "authorship_tag": "ABX9TyOyxAybwThlx6JpUfAZOYw8",
      "include_colab_link": true
    },
    "kernelspec": {
      "name": "python3",
      "display_name": "Python 3"
    },
    "language_info": {
      "name": "python"
    }
  },
  "cells": [
    {
      "cell_type": "markdown",
      "metadata": {
        "id": "view-in-github",
        "colab_type": "text"
      },
      "source": [
        "<a href=\"https://colab.research.google.com/github/Shanthakumar9019/Project_AML/blob/main/AML_project.ipynb\" target=\"_parent\"><img src=\"https://colab.research.google.com/assets/colab-badge.svg\" alt=\"Open In Colab\"/></a>"
      ]
    },
    {
      "cell_type": "code",
      "execution_count": 1,
      "metadata": {
        "colab": {
          "base_uri": "https://localhost:8080/"
        },
        "id": "LXdNn8u3xxCv",
        "outputId": "530071d2-0612-4961-85c9-0d2e6e0313ff"
      },
      "outputs": [
        {
          "output_type": "stream",
          "name": "stdout",
          "text": [
            "Estimated Tip: $8.36\n"
          ]
        }
      ],
      "source": [
        "import pandas as pd\n",
        "from sklearn.linear_model import LinearRegression\n",
        "from sklearn.preprocessing import OneHotEncoder\n",
        "from sklearn.compose import ColumnTransformer\n",
        "from sklearn.pipeline import Pipeline\n",
        "\n",
        "# Sample dataset\n",
        "data = pd.DataFrame({\n",
        "    'bill': [45.00, 80.25, 25.60, 100.00, 35.50],\n",
        "    'diners': [2, 4, 1, 5, 2],\n",
        "    'day': ['Monday', 'Friday', 'Wednesday', 'Sunday', 'Saturday'],\n",
        "    'tip': [7.00, 12.00, 3.50, 18.00, 6.00]\n",
        "})\n",
        "\n",
        "# Features and target\n",
        "X = data[['bill', 'diners', 'day']]\n",
        "y = data['tip']\n",
        "\n",
        "# Preprocessing: one-hot encode day of the week\n",
        "preprocessor = ColumnTransformer(\n",
        "    transformers=[('day_enc', OneHotEncoder(), ['day'])],\n",
        "    remainder='passthrough'  # Pass through bill and diners\n",
        ")\n",
        "\n",
        "# Create pipeline with preprocessing + regression\n",
        "model = Pipeline(steps=[\n",
        "    ('preprocessor', preprocessor),\n",
        "    ('regressor', LinearRegression())\n",
        "])\n",
        "\n",
        "# Train the model\n",
        "model.fit(X, y)\n",
        "\n",
        "# Predict a new tip\n",
        "new_data = pd.DataFrame({\n",
        "    'bill': [60.00],\n",
        "    'diners': [3],\n",
        "    'day': ['Friday']\n",
        "})\n",
        "predicted_tip = model.predict(new_data)\n",
        "print(f\"Estimated Tip: ${predicted_tip[0]:.2f}\")"
      ]
    }
  ]
}